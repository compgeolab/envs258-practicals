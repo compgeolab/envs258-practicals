{
 "cells": [
  {
   "cell_type": "markdown",
   "metadata": {},
   "source": [
    "# Repeating actions with `for` loops\n"
   ]
  },
  {
   "cell_type": "code",
   "execution_count": 1,
   "metadata": {},
   "outputs": [],
   "source": [
    "temperatures = [10, 15, 8, 5, 10]"
   ]
  },
  {
   "cell_type": "markdown",
   "metadata": {},
   "source": [
    "Let's say we want to output this:\n",
    "\n",
    "```\n",
    "temperature is 10 C\n",
    "temperature is 15 C\n",
    "...\n",
    "```"
   ]
  },
  {
   "cell_type": "code",
   "execution_count": 2,
   "metadata": {},
   "outputs": [
    {
     "name": "stdout",
     "output_type": "stream",
     "text": [
      "temperature is 10 C\n",
      "temperature is 15 C\n",
      "temperature is 8 C\n",
      "temperature is 5 C\n",
      "temperature is 10 C\n"
     ]
    }
   ],
   "source": [
    "print(\"temperature is\", temperatures[0], \"C\")\n",
    "print(\"temperature is\", temperatures[1], \"C\")\n",
    "print(\"temperature is\", temperatures[2], \"C\")\n",
    "print(\"temperature is\", temperatures[3], \"C\")\n",
    "print(\"temperature is\", temperatures[4], \"C\")"
   ]
  },
  {
   "cell_type": "code",
   "execution_count": 3,
   "metadata": {},
   "outputs": [],
   "source": [
    "def print_temperatures(list_of_temperatures):\n",
    "    \"\"\"\n",
    "    Prints temperatures one per line.\n",
    "    \n",
    "    Input: list of temperature values\n",
    "    \"\"\"\n",
    "    print(\"temperature is\", list_of_temperatures[0], \"C\")\n",
    "    print(\"temperature is\", list_of_temperatures[1], \"C\")\n",
    "    print(\"temperature is\", list_of_temperatures[2], \"C\")\n",
    "    print(\"temperature is\", list_of_temperatures[3], \"C\")\n",
    "    print(\"temperature is\", list_of_temperatures[4], \"C\")"
   ]
  },
  {
   "cell_type": "code",
   "execution_count": 4,
   "metadata": {},
   "outputs": [
    {
     "name": "stdout",
     "output_type": "stream",
     "text": [
      "temperature is 10 C\n",
      "temperature is 15 C\n",
      "temperature is 8 C\n",
      "temperature is 5 C\n",
      "temperature is 10 C\n"
     ]
    }
   ],
   "source": [
    "print_temperatures(temperatures)"
   ]
  },
  {
   "cell_type": "code",
   "execution_count": 5,
   "metadata": {},
   "outputs": [],
   "source": [
    "temperatures_day2 = [7, 11, 9, 4, 3, 8, 5]"
   ]
  },
  {
   "cell_type": "code",
   "execution_count": 6,
   "metadata": {},
   "outputs": [],
   "source": [
    "def print_temperatures(list_of_temperatures):\n",
    "    \"\"\"\n",
    "    Prints temperatures one per line.\n",
    "    \n",
    "    Input: list of temperature values\n",
    "    \"\"\"\n",
    "    print(\"temperature is\", list_of_temperatures[0], \"C\")\n",
    "    print(\"temperature is\", list_of_temperatures[1], \"C\")\n",
    "    print(\"temperature is\", list_of_temperatures[2], \"C\")\n",
    "    print(\"temperature is\", list_of_temperatures[3], \"C\")\n",
    "    print(\"temperature is\", list_of_temperatures[4], \"C\")\n",
    "    print(\"temperature is\", list_of_temperatures[5], \"C\")\n",
    "    print(\"temperature is\", list_of_temperatures[6], \"C\")"
   ]
  },
  {
   "cell_type": "code",
   "execution_count": 7,
   "metadata": {},
   "outputs": [
    {
     "name": "stdout",
     "output_type": "stream",
     "text": [
      "temperature is 7 C\n",
      "temperature is 11 C\n",
      "temperature is 9 C\n",
      "temperature is 4 C\n",
      "temperature is 3 C\n",
      "temperature is 8 C\n",
      "temperature is 5 C\n"
     ]
    }
   ],
   "source": [
    "print_temperatures(temperatures_day2)"
   ]
  },
  {
   "cell_type": "code",
   "execution_count": 8,
   "metadata": {},
   "outputs": [
    {
     "name": "stdout",
     "output_type": "stream",
     "text": [
      "temperature is 10 C\n",
      "temperature is 15 C\n",
      "temperature is 8 C\n",
      "temperature is 5 C\n",
      "temperature is 10 C\n"
     ]
    },
    {
     "ename": "IndexError",
     "evalue": "list index out of range",
     "output_type": "error",
     "traceback": [
      "\u001b[0;31m---------------------------------------------------------------------------\u001b[0m",
      "\u001b[0;31mIndexError\u001b[0m                                Traceback (most recent call last)",
      "\u001b[0;32m<ipython-input-8-f19ad863a74c>\u001b[0m in \u001b[0;36m<module>\u001b[0;34m\u001b[0m\n\u001b[0;32m----> 1\u001b[0;31m \u001b[0mprint_temperatures\u001b[0m\u001b[0;34m(\u001b[0m\u001b[0mtemperatures\u001b[0m\u001b[0;34m)\u001b[0m\u001b[0;34m\u001b[0m\u001b[0;34m\u001b[0m\u001b[0m\n\u001b[0m",
      "\u001b[0;32m<ipython-input-6-2235d1b41719>\u001b[0m in \u001b[0;36mprint_temperatures\u001b[0;34m(list_of_temperatures)\u001b[0m\n\u001b[1;32m     10\u001b[0m     \u001b[0mprint\u001b[0m\u001b[0;34m(\u001b[0m\u001b[0;34m\"temperature is\"\u001b[0m\u001b[0;34m,\u001b[0m \u001b[0mlist_of_temperatures\u001b[0m\u001b[0;34m[\u001b[0m\u001b[0;36m3\u001b[0m\u001b[0;34m]\u001b[0m\u001b[0;34m,\u001b[0m \u001b[0;34m\"C\"\u001b[0m\u001b[0;34m)\u001b[0m\u001b[0;34m\u001b[0m\u001b[0;34m\u001b[0m\u001b[0m\n\u001b[1;32m     11\u001b[0m     \u001b[0mprint\u001b[0m\u001b[0;34m(\u001b[0m\u001b[0;34m\"temperature is\"\u001b[0m\u001b[0;34m,\u001b[0m \u001b[0mlist_of_temperatures\u001b[0m\u001b[0;34m[\u001b[0m\u001b[0;36m4\u001b[0m\u001b[0;34m]\u001b[0m\u001b[0;34m,\u001b[0m \u001b[0;34m\"C\"\u001b[0m\u001b[0;34m)\u001b[0m\u001b[0;34m\u001b[0m\u001b[0;34m\u001b[0m\u001b[0m\n\u001b[0;32m---> 12\u001b[0;31m     \u001b[0mprint\u001b[0m\u001b[0;34m(\u001b[0m\u001b[0;34m\"temperature is\"\u001b[0m\u001b[0;34m,\u001b[0m \u001b[0mlist_of_temperatures\u001b[0m\u001b[0;34m[\u001b[0m\u001b[0;36m5\u001b[0m\u001b[0;34m]\u001b[0m\u001b[0;34m,\u001b[0m \u001b[0;34m\"C\"\u001b[0m\u001b[0;34m)\u001b[0m\u001b[0;34m\u001b[0m\u001b[0;34m\u001b[0m\u001b[0m\n\u001b[0m\u001b[1;32m     13\u001b[0m     \u001b[0mprint\u001b[0m\u001b[0;34m(\u001b[0m\u001b[0;34m\"temperature is\"\u001b[0m\u001b[0;34m,\u001b[0m \u001b[0mlist_of_temperatures\u001b[0m\u001b[0;34m[\u001b[0m\u001b[0;36m6\u001b[0m\u001b[0;34m]\u001b[0m\u001b[0;34m,\u001b[0m \u001b[0;34m\"C\"\u001b[0m\u001b[0;34m)\u001b[0m\u001b[0;34m\u001b[0m\u001b[0;34m\u001b[0m\u001b[0m\n",
      "\u001b[0;31mIndexError\u001b[0m: list index out of range"
     ]
    }
   ],
   "source": [
    "print_temperatures(temperatures)"
   ]
  },
  {
   "cell_type": "code",
   "execution_count": 9,
   "metadata": {},
   "outputs": [
    {
     "name": "stdout",
     "output_type": "stream",
     "text": [
      "10\n",
      "15\n",
      "8\n",
      "5\n",
      "10\n"
     ]
    }
   ],
   "source": [
    "# Read this as \"for each item in the list temperatures, print that item\"\n",
    "for item in temperatures:\n",
    "    print(item)"
   ]
  },
  {
   "cell_type": "code",
   "execution_count": 10,
   "metadata": {},
   "outputs": [
    {
     "name": "stdout",
     "output_type": "stream",
     "text": [
      "temperature is 10 C / 283 K\n",
      "temperature is 15 C / 288 K\n",
      "temperature is 8 C / 281 K\n",
      "temperature is 5 C / 278 K\n",
      "temperature is 10 C / 283 K\n",
      "where does this go?\n"
     ]
    }
   ],
   "source": [
    "for item in temperatures:\n",
    "    item_kelvin = item + 273\n",
    "    print(\"temperature is\", item, \"C /\", item_kelvin, \"K\")\n",
    "print(\"where does this go?\")"
   ]
  },
  {
   "cell_type": "code",
   "execution_count": 11,
   "metadata": {},
   "outputs": [],
   "source": [
    "def print_temperatures_v2(temperatures_celsius):\n",
    "    \"\"\"\n",
    "    Prints every element of a list of temperatures.    \n",
    "    Tempetures should be in Celsius. A Kelvin version is also printed.\n",
    "    \"\"\"\n",
    "    for temperature in temperatures_celsius:\n",
    "        temperature_kelvin = temperature + 273\n",
    "        print(\"temperature is\", temperature, \"C /\", temperature_kelvin, \"K\")"
   ]
  },
  {
   "cell_type": "code",
   "execution_count": 12,
   "metadata": {},
   "outputs": [
    {
     "name": "stdout",
     "output_type": "stream",
     "text": [
      "temperature is 10 C / 283 K\n",
      "temperature is 15 C / 288 K\n",
      "temperature is 8 C / 281 K\n",
      "temperature is 5 C / 278 K\n",
      "temperature is 10 C / 283 K\n"
     ]
    }
   ],
   "source": [
    "print_temperatures_v2(temperatures)"
   ]
  },
  {
   "cell_type": "code",
   "execution_count": 13,
   "metadata": {},
   "outputs": [
    {
     "name": "stdout",
     "output_type": "stream",
     "text": [
      "temperature is 7 C / 280 K\n",
      "temperature is 11 C / 284 K\n",
      "temperature is 9 C / 282 K\n",
      "temperature is 4 C / 277 K\n",
      "temperature is 3 C / 276 K\n",
      "temperature is 8 C / 281 K\n",
      "temperature is 5 C / 278 K\n"
     ]
    }
   ],
   "source": [
    "print_temperatures_v2(temperatures_day2)"
   ]
  },
  {
   "cell_type": "code",
   "execution_count": 14,
   "metadata": {},
   "outputs": [
    {
     "name": "stdout",
     "output_type": "stream",
     "text": [
      "10\n",
      "15\n",
      "8\n",
      "5\n",
      "10\n"
     ]
    }
   ],
   "source": [
    "for temperature_celsius in temperatures:\n",
    "    print(temperature_celsius)"
   ]
  }
 ],
 "metadata": {
  "kernelspec": {
   "display_name": "Python [conda env:remote-sensing]",
   "language": "python",
   "name": "conda-env-remote-sensing-py"
  },
  "language_info": {
   "codemirror_mode": {
    "name": "ipython",
    "version": 3
   },
   "file_extension": ".py",
   "mimetype": "text/x-python",
   "name": "python",
   "nbconvert_exporter": "python",
   "pygments_lexer": "ipython3",
   "version": "3.8.0"
  }
 },
 "nbformat": 4,
 "nbformat_minor": 4
}
