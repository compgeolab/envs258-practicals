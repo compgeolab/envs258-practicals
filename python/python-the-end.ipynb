{
 "cells": [
  {
   "cell_type": "markdown",
   "metadata": {},
   "source": [
    "# String formatting and conditional statements"
   ]
  },
  {
   "cell_type": "code",
   "execution_count": 1,
   "metadata": {},
   "outputs": [],
   "source": [
    "bands = [2, 3, 4, 5, 10]"
   ]
  },
  {
   "cell_type": "markdown",
   "metadata": {},
   "source": [
    "```\n",
    "LC08_L2_something_something_SR_B2.TIF\n",
    "LC08_L2_something_something_SR_B3.TIF\n",
    "LC08_L2_something_something_SR_B4.TIF\n",
    "LC08_L2_something_something_SR_B5.TIF\n",
    "```"
   ]
  },
  {
   "cell_type": "markdown",
   "metadata": {},
   "source": [
    "Use f-strings to insert values into strings."
   ]
  },
  {
   "cell_type": "code",
   "execution_count": 2,
   "metadata": {},
   "outputs": [],
   "source": [
    "band = 2\n",
    "fname = f\"LC08_L2_something_something_SR_B{band}.TIF\""
   ]
  },
  {
   "cell_type": "code",
   "execution_count": 3,
   "metadata": {},
   "outputs": [
    {
     "name": "stdout",
     "output_type": "stream",
     "text": [
      "LC08_L2_something_something_SR_B2.TIF\n"
     ]
    }
   ],
   "source": [
    "print(fname)"
   ]
  },
  {
   "cell_type": "code",
   "execution_count": 4,
   "metadata": {},
   "outputs": [
    {
     "name": "stdout",
     "output_type": "stream",
     "text": [
      "LC08_L2_something_something_SR_B2.TIF\n",
      "LC08_L2_something_something_SR_B3.TIF\n",
      "LC08_L2_something_something_SR_B4.TIF\n",
      "LC08_L2_something_something_SR_B5.TIF\n",
      "LC08_L2_something_something_SR_B10.TIF\n"
     ]
    }
   ],
   "source": [
    "for band in bands:\n",
    "    fname = f\"LC08_L2_something_something_SR_B{band}.TIF\"\n",
    "    print(fname)"
   ]
  },
  {
   "cell_type": "code",
   "execution_count": 5,
   "metadata": {},
   "outputs": [],
   "source": [
    "bands = [2, 3, 4, 5]"
   ]
  },
  {
   "cell_type": "code",
   "execution_count": 6,
   "metadata": {},
   "outputs": [
    {
     "name": "stdout",
     "output_type": "stream",
     "text": [
      "4\n"
     ]
    }
   ],
   "source": [
    "print(bands[2])"
   ]
  },
  {
   "cell_type": "code",
   "execution_count": 7,
   "metadata": {},
   "outputs": [],
   "source": [
    "fnames = {2: \"LC08_L2_something_something_SR_B2.TIF\", 3: \"LC08_L2_something_something_SR_B3.TIF\"}"
   ]
  },
  {
   "cell_type": "code",
   "execution_count": 8,
   "metadata": {},
   "outputs": [
    {
     "name": "stdout",
     "output_type": "stream",
     "text": [
      "LC08_L2_something_something_SR_B3.TIF\n"
     ]
    }
   ],
   "source": [
    "print(fnames[3])"
   ]
  },
  {
   "cell_type": "code",
   "execution_count": 9,
   "metadata": {},
   "outputs": [],
   "source": [
    "fnames[4] = \"LC08_L2_something_something_SR_B4.TIF\""
   ]
  },
  {
   "cell_type": "code",
   "execution_count": 10,
   "metadata": {},
   "outputs": [
    {
     "name": "stdout",
     "output_type": "stream",
     "text": [
      "LC08_L2_something_something_SR_B4.TIF\n"
     ]
    }
   ],
   "source": [
    "print(fnames[4])"
   ]
  },
  {
   "cell_type": "markdown",
   "metadata": {},
   "source": [
    "Produce a dictionary `fnames` with the following content:\n",
    "\n",
    "* keys: 2, 3, 4, 5, 6, 7, 10\n",
    "* values: file names for each of these bands\n",
    "\n",
    "Use a `for` loop and f-strings to do this."
   ]
  },
  {
   "cell_type": "code",
   "execution_count": 11,
   "metadata": {},
   "outputs": [],
   "source": [
    "fnames = {}\n",
    "bands = [2, 3, 4, 5, 6, 7, 10]\n",
    "for band in bands:\n",
    "    if band == 10:\n",
    "        fname = f\"LC08_L2SR_210050_20151111_20201016_02_T1_ST_B{band}.TIF\" \n",
    "    else:\n",
    "        fname = f\"LC08_L2SR_210050_20151111_20201016_02_T1_SR_B{band}.TIF\" \n",
    "    fnames[band] = fname"
   ]
  },
  {
   "cell_type": "code",
   "execution_count": 12,
   "metadata": {},
   "outputs": [
    {
     "name": "stdout",
     "output_type": "stream",
     "text": [
      "LC08_L2SR_210050_20151111_20201016_02_T1_ST_B10.TIF\n"
     ]
    }
   ],
   "source": [
    "print(fnames[10])"
   ]
  },
  {
   "cell_type": "code",
   "execution_count": 13,
   "metadata": {},
   "outputs": [
    {
     "name": "stdout",
     "output_type": "stream",
     "text": [
      "LC08_L2SR_210050_20151111_20201016_02_T1_SR_B5.TIF\n"
     ]
    }
   ],
   "source": [
    "print(fnames[5])"
   ]
  },
  {
   "cell_type": "code",
   "execution_count": null,
   "metadata": {},
   "outputs": [],
   "source": []
  }
 ],
 "metadata": {
  "kernelspec": {
   "display_name": "Python [conda env:remote-sensing]",
   "language": "python",
   "name": "conda-env-remote-sensing-py"
  },
  "language_info": {
   "codemirror_mode": {
    "name": "ipython",
    "version": 3
   },
   "file_extension": ".py",
   "mimetype": "text/x-python",
   "name": "python",
   "nbconvert_exporter": "python",
   "pygments_lexer": "ipython3",
   "version": "3.8.0"
  }
 },
 "nbformat": 4,
 "nbformat_minor": 4
}
