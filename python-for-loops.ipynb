{
 "cells": [
  {
   "cell_type": "markdown",
   "metadata": {},
   "source": [
    "# Repeating actions with loops"
   ]
  },
  {
   "cell_type": "code",
   "execution_count": 5,
   "metadata": {},
   "outputs": [],
   "source": [
    "temperatures = [7, 9, 8, 10, 9, 5]"
   ]
  },
  {
   "cell_type": "code",
   "execution_count": 6,
   "metadata": {},
   "outputs": [
    {
     "name": "stdout",
     "output_type": "stream",
     "text": [
      "7\n",
      "9\n",
      "8\n",
      "10\n",
      "9\n",
      "5\n"
     ]
    },
    {
     "ename": "IndexError",
     "evalue": "list index out of range",
     "output_type": "error",
     "traceback": [
      "\u001b[0;31m---------------------------------------------------------------------------\u001b[0m",
      "\u001b[0;31mIndexError\u001b[0m                                Traceback (most recent call last)",
      "\u001b[0;32m<ipython-input-6-bd26f3ab74ac>\u001b[0m in \u001b[0;36m<module>\u001b[0;34m\u001b[0m\n\u001b[1;32m      5\u001b[0m \u001b[0mprint\u001b[0m\u001b[0;34m(\u001b[0m\u001b[0mtemperatures\u001b[0m\u001b[0;34m[\u001b[0m\u001b[0;36m4\u001b[0m\u001b[0;34m]\u001b[0m\u001b[0;34m)\u001b[0m\u001b[0;34m\u001b[0m\u001b[0;34m\u001b[0m\u001b[0m\n\u001b[1;32m      6\u001b[0m \u001b[0mprint\u001b[0m\u001b[0;34m(\u001b[0m\u001b[0mtemperatures\u001b[0m\u001b[0;34m[\u001b[0m\u001b[0;36m5\u001b[0m\u001b[0;34m]\u001b[0m\u001b[0;34m)\u001b[0m\u001b[0;34m\u001b[0m\u001b[0;34m\u001b[0m\u001b[0m\n\u001b[0;32m----> 7\u001b[0;31m \u001b[0mprint\u001b[0m\u001b[0;34m(\u001b[0m\u001b[0mtemperatures\u001b[0m\u001b[0;34m[\u001b[0m\u001b[0;36m6\u001b[0m\u001b[0;34m]\u001b[0m\u001b[0;34m)\u001b[0m\u001b[0;34m\u001b[0m\u001b[0;34m\u001b[0m\u001b[0m\n\u001b[0m",
      "\u001b[0;31mIndexError\u001b[0m: list index out of range"
     ]
    }
   ],
   "source": [
    "print(temperatures[0])\n",
    "print(temperatures[1])\n",
    "print(temperatures[2])\n",
    "print(temperatures[3])\n",
    "print(temperatures[4])\n",
    "print(temperatures[5])\n",
    "print(temperatures[6])"
   ]
  },
  {
   "cell_type": "code",
   "execution_count": 4,
   "metadata": {},
   "outputs": [
    {
     "name": "stdout",
     "output_type": "stream",
     "text": [
      "[7, 9, 8, 10, 13, 9]\n"
     ]
    }
   ],
   "source": [
    "print(temperatures[0:6])"
   ]
  },
  {
   "cell_type": "markdown",
   "metadata": {},
   "source": [
    "for every temperature in the list of temperatures, print out that temperature."
   ]
  },
  {
   "cell_type": "code",
   "execution_count": 14,
   "metadata": {},
   "outputs": [
    {
     "name": "stdout",
     "output_type": "stream",
     "text": [
      "274\n",
      "275\n",
      "276\n",
      "277\n",
      "278\n",
      "279\n"
     ]
    }
   ],
   "source": [
    "temperatures = [1, 2, 3, 4, 5, 6]\n",
    "for temperature in temperatures:\n",
    "    temperature_kelvin = temperature + 273\n",
    "    print(temperature_kelvin)"
   ]
  },
  {
   "cell_type": "code",
   "execution_count": null,
   "metadata": {},
   "outputs": [],
   "source": [
    "wien_displacement_constant = 2.897771955 * 10**-3  # m.K\n",
    "wavelengths = "
   ]
  },
  {
   "cell_type": "code",
   "execution_count": 11,
   "metadata": {},
   "outputs": [
    {
     "data": {
      "text/plain": [
       "276"
      ]
     },
     "execution_count": 11,
     "metadata": {},
     "output_type": "execute_result"
    }
   ],
   "source": [
    "temperature_kelvin"
   ]
  },
  {
   "cell_type": "markdown",
   "metadata": {},
   "source": [
    "Create a new empty list.\n",
    "For every temperature in a list of temperatures, convert that temperature to kelvin and add the result to the end of the once empty list."
   ]
  },
  {
   "cell_type": "code",
   "execution_count": 20,
   "metadata": {},
   "outputs": [
    {
     "name": "stdout",
     "output_type": "stream",
     "text": [
      "[274, 275, 276, 277, 278, 279]\n"
     ]
    }
   ],
   "source": [
    "temperatures_kelvin = []\n",
    "for temperature in temperatures:\n",
    "    temperature_kelvin = temperature + 273\n",
    "    temperatures_kelvin.append(temperature_kelvin)\n",
    "print(temperatures_kelvin)"
   ]
  },
  {
   "cell_type": "markdown",
   "metadata": {},
   "source": [
    "Average:\n",
    "\n",
    "$\\bar{x} = \\dfrac{\\sum\\limits_{i=0}^{N-1} x_i}{N}$"
   ]
  },
  {
   "cell_type": "code",
   "execution_count": 30,
   "metadata": {},
   "outputs": [
    {
     "name": "stdout",
     "output_type": "stream",
     "text": [
      "6\n",
      "Sum of temperatures = 21\n",
      "3.5\n"
     ]
    }
   ],
   "source": [
    "temperatures = [1, 2, 3, 4, 5, 6]\n",
    "\n",
    "number_of_elements = len(temperatures)\n",
    "print(number_of_elements)\n",
    "\n",
    "# The aggregator pattern\n",
    "sum_of_temperatures = 0\n",
    "for temperature in temperatures:\n",
    "    sum_of_temperatures = sum_of_temperatures + temperature\n",
    "print(\"Sum of temperatures =\", sum_of_temperatures)\n",
    "average = sum_of_temperatures / number_of_elements\n",
    "print(average)"
   ]
  },
  {
   "cell_type": "markdown",
   "metadata": {},
   "source": [
    "$\\sigma = \\sqrt{\\dfrac{\\sum\\limits_{i=0}^{N-1} (x_i - \\bar{x})^2}{N - 1}}$"
   ]
  },
  {
   "cell_type": "code",
   "execution_count": 31,
   "metadata": {},
   "outputs": [
    {
     "name": "stdout",
     "output_type": "stream",
     "text": [
      "1.8708286933869707\n"
     ]
    }
   ],
   "source": [
    "sum_of_deviations_squared = 0\n",
    "for temperature in temperatures:\n",
    "    deviation = temperature - average\n",
    "    sum_of_deviations_squared = sum_of_deviations_squared + deviation**2\n",
    "standard_deviation = (sum_of_deviations_squared / (number_of_elements - 1))**0.5\n",
    "print(standard_deviation)"
   ]
  },
  {
   "cell_type": "code",
   "execution_count": 27,
   "metadata": {},
   "outputs": [
    {
     "name": "stdout",
     "output_type": "stream",
     "text": [
      "L\n",
      "e\n",
      "o\n",
      "n\n",
      "a\n",
      "r\n",
      "d\n",
      "o\n"
     ]
    }
   ],
   "source": [
    "name = \"Leonardo\"\n",
    "for character in name:\n",
    "    print(character)"
   ]
  },
  {
   "cell_type": "code",
   "execution_count": 29,
   "metadata": {},
   "outputs": [
    {
     "data": {
      "text/plain": [
       "'Leo'"
      ]
     },
     "execution_count": 29,
     "metadata": {},
     "output_type": "execute_result"
    }
   ],
   "source": [
    "name[0:3]"
   ]
  },
  {
   "cell_type": "markdown",
   "metadata": {},
   "source": [
    "* aggregation\n",
    "* slice\n",
    "* iterable\n",
    "* identation"
   ]
  },
  {
   "cell_type": "code",
   "execution_count": null,
   "metadata": {},
   "outputs": [],
   "source": []
  }
 ],
 "metadata": {
  "kernelspec": {
   "display_name": "Python 3",
   "language": "python",
   "name": "python3"
  },
  "language_info": {
   "codemirror_mode": {
    "name": "ipython",
    "version": 3
   },
   "file_extension": ".py",
   "mimetype": "text/x-python",
   "name": "python",
   "nbconvert_exporter": "python",
   "pygments_lexer": "ipython3",
   "version": "3.7.3"
  }
 },
 "nbformat": 4,
 "nbformat_minor": 4
}
