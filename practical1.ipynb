{
 "cells": [
  {
   "cell_type": "markdown",
   "metadata": {},
   "source": [
    "# Practical 1: Fundamentals of Remote Sensing and Digital Image Processing\n",
    "\n",
    "In this practical, we'll exercise the fundamentals of remote sensing (radiation, transmission, etc). We'll also learn how to do some image processing using Python's [scikit-image](https://scikit-image.org) library.\n",
    "\n",
    "## General instructions\n",
    "\n",
    "Type out your answer to questions in the provided *Markdown* cell (delete the placeholder text). \n",
    "You can use the code cells provided to do the calculations.\n",
    "\n",
    "Remember: \n",
    "* Double click on a Markdown cell to edit its contents.\n",
    "* You can write equations in Markdown by surrounding them in `$`. The syntax for the equations is from a program called [LaTeX](https://en.wikipedia.org/wiki/LaTeX). You can learn about the syntax for writing equations with [this guide](https://www.overleaf.com/learn/latex/Mathematical_expressions).\n",
    "* To get a cheat sheet of Markdown formatting, click on the menu: Help > Markdown Reference.\n",
    "* Use descriptive variable names.\n",
    "* Use the `print` function to display the contents of a variable.\n",
    "* **Be mindful of units!**\n",
    "\n",
    "Example equation:\n",
    "\n",
    "$\n",
    "\\lambda = \\dfrac{c}{\\nu} = 10\\ \\mu m\n",
    "$"
   ]
  },
  {
   "cell_type": "markdown",
   "metadata": {},
   "source": [
    "## Exercise 1\n",
    "\n",
    "When green light is emitted from an oxygen atom it has a wavelength of 558 nm. \n",
    "What is its frequency in [Hertz](https://en.wikipedia.org/wiki/Hertz)?\n",
    "\n",
    "---"
   ]
  },
  {
   "cell_type": "code",
   "execution_count": null,
   "metadata": {},
   "outputs": [],
   "source": [
    "# Use this code cell to do your calculations"
   ]
  },
  {
   "cell_type": "markdown",
   "metadata": {},
   "source": [
    "*Click here to type your answer (and delete this text)*"
   ]
  }
 ],
 "metadata": {
  "kernelspec": {
   "display_name": "Python [conda env:envs258]",
   "language": "python",
   "name": "conda-env-envs258-py"
  },
  "language_info": {
   "codemirror_mode": {
    "name": "ipython",
    "version": 3
   },
   "file_extension": ".py",
   "mimetype": "text/x-python",
   "name": "python",
   "nbconvert_exporter": "python",
   "pygments_lexer": "ipython3",
   "version": "3.7.6"
  }
 },
 "nbformat": 4,
 "nbformat_minor": 4
}
