{
 "cells": [
  {
   "cell_type": "markdown",
   "metadata": {},
   "source": [
    "# Practical 1: Fundamentals of Remote Sensing and Digital Image Processing\n",
    "\n",
    "In this practical, we'll exercise the fundamentals of remote sensing (radiation, transmission, etc). We'll also learn how to do some image processing using Python's [scikit-image](https://scikit-image.org) library.\n",
    "\n",
    "## General instructions\n",
    "\n",
    "Type out your answer to questions in the provided *Markdown* cell (delete the placeholder text). \n",
    "You can use the code cells provided to do the calculations.\n",
    "\n",
    "Remember: \n",
    "* Double click on a Markdown cell to edit its contents.\n",
    "* You can write equations in Markdown by surrounding them in `$`. The syntax for the equations is from a program called [LaTeX](https://en.wikipedia.org/wiki/LaTeX). You can learn about the syntax for writing equations with [this guide](https://www.overleaf.com/learn/latex/Mathematical_expressions).\n",
    "* To get a cheat sheet of Markdown formatting, click on the menu: Help > Markdown Reference.\n",
    "* Use descriptive variable names.\n",
    "* Use the `print` function to display the contents of a variable.\n",
    "* **Be mindful of units!**\n",
    "\n",
    "Example equation:\n",
    "\n",
    "$\n",
    "\\lambda = \\dfrac{c}{\\nu} = 10\\ \\mu m\n",
    "$"
   ]
  },
  {
   "cell_type": "markdown",
   "metadata": {},
   "source": [
    "## Exercise 1\n",
    "\n",
    "When green light is emitted from an oxygen atom it has a wavelength of 558 nm. \n",
    "What is its frequency in [Hertz](https://en.wikipedia.org/wiki/Hertz)?\n",
    "\n",
    "---"
   ]
  },
  {
   "cell_type": "code",
   "execution_count": null,
   "metadata": {},
   "outputs": [],
   "source": [
    "# Use this code cell to calculate your answer"
   ]
  },
  {
   "cell_type": "markdown",
   "metadata": {},
   "source": [
    "*Double click here to edit this Markdown cell.* \n",
    "Delete this text and use this space to type your answer."
   ]
  },
  {
   "cell_type": "markdown",
   "metadata": {},
   "source": [
    "## Exercise 2\n",
    "\n",
    "Combustion of vegetation occurs at temperatures between 540-700 K.\n",
    "\n",
    "1. What wavelength(s) will be needed to monitor the fires with a suitable remote sensor?\n",
    "1. Compute the energy (total spectral radiance) emitted by a blackbody at that temperature (present your answer in $W.m^{-2}$).\n",
    "1. Could a sensor on a satellite measure this effect? Explain your answers.\n",
    "\n",
    "---"
   ]
  },
  {
   "cell_type": "markdown",
   "metadata": {},
   "source": [
    "#### Solution to question 1\n"
   ]
  },
  {
   "cell_type": "code",
   "execution_count": null,
   "metadata": {},
   "outputs": [],
   "source": [
    "# Use this code cell to calculate your answer"
   ]
  },
  {
   "cell_type": "markdown",
   "metadata": {},
   "source": [
    "*Double click here to edit this Markdown cell.* \n",
    "Delete this text and use this space to type your answer."
   ]
  },
  {
   "cell_type": "markdown",
   "metadata": {},
   "source": [
    "#### Solution to question 2\n"
   ]
  },
  {
   "cell_type": "code",
   "execution_count": null,
   "metadata": {},
   "outputs": [],
   "source": [
    "# Use this code cell to calculate your answer"
   ]
  },
  {
   "cell_type": "markdown",
   "metadata": {},
   "source": [
    "*Double click here to edit this Markdown cell.* \n",
    "Delete this text and use this space to type your answer."
   ]
  },
  {
   "cell_type": "markdown",
   "metadata": {},
   "source": [
    "#### Solution to question 3"
   ]
  },
  {
   "cell_type": "markdown",
   "metadata": {},
   "source": [
    "*Double click here to edit this Markdown cell.* \n",
    "Delete this text and use this space to type your answer."
   ]
  },
  {
   "cell_type": "markdown",
   "metadata": {},
   "source": [
    "## Exercise 3\n",
    "\n",
    "A full [Landsat 7](https://en.wikipedia.org/wiki/Landsat_7) satellite scene covers a large area (185 km x 172 km). \n",
    "For a spatial resolution of 30 m (e.g. bands 1 and 4), calculate approximately how much computer memory will be required to store a single band?\n",
    "\n",
    "---"
   ]
  },
  {
   "cell_type": "code",
   "execution_count": null,
   "metadata": {},
   "outputs": [],
   "source": [
    "# Use this code cell to calculate your answer"
   ]
  },
  {
   "cell_type": "markdown",
   "metadata": {},
   "source": [
    "*Double click here to edit this Markdown cell.* \n",
    "Delete this text and use this space to type your answer."
   ]
  },
  {
   "cell_type": "markdown",
   "metadata": {},
   "source": [
    "## Exercise 4\n",
    "\n",
    "In the following exercise, we will do some digital image processing in Python:\n",
    "\n",
    "* How to load/read an image\n",
    "* How to display it\n",
    "* How to alter the radiometric information via histogram enhancements"
   ]
  },
  {
   "cell_type": "markdown",
   "metadata": {},
   "source": [
    "### Loading and plotting an image\n",
    "\n",
    "In the last Python class, we saw how to load data from a text file using [numpy.loadtxt](https://docs.scipy.org/doc/numpy/reference/generated/numpy.loadtxt.html) and how to plot it using [matplotlib](https://matplotlib.org/).\n",
    "This time, we'll look at how to load an actual image in [TIFF](https://en.wikipedia.org/wiki/TIFF) format using [scikit-image](https://scikit-image.org).\n",
    "\n",
    "Complete the code cell below to:\n",
    "1. Load the file `moon.tif` into a numpy array\n",
    "2. Plot it using matplotlib\n",
    "\n",
    "Remember to:\n",
    "* Run the cell with the `import` commands. \n",
    "* Use *tab* to complete variables, functions, and even file names."
   ]
  },
  {
   "cell_type": "code",
   "execution_count": null,
   "metadata": {},
   "outputs": [],
   "source": [
    "import skimage\n",
    "# We can use \"as\" to give the import a nickname (so we don't have to type the long name)\n",
    "import matplotlib.pyplot as plt\n",
    "import numpy as np"
   ]
  },
  {
   "cell_type": "code",
   "execution_count": null,
   "metadata": {},
   "outputs": [],
   "source": [
    "# Complete the code in this cell\n",
    " = skimage.io.imread(    )\n",
    "\n",
    "plt.figure()\n",
    "plt.\n",
    "plt.show()"
   ]
  },
  {
   "cell_type": "markdown",
   "metadata": {},
   "source": [
    "### Histogram enhancements\n",
    "\n",
    "Contrast enhancement techniques for grayscale (single band) images:\n",
    "\n",
    "1. Contrast stretching: increases the contrast of the image by mapping the intensity values of the input image to a new range of values (usually shorter than the original). Function: [skimage.exposure.rescale_intensity](https://scikit-image.org/docs/stable/api/skimage.exposure.html#skimage.exposure.rescale_intensity)\n",
    "2. Histogram equalization: enhances the contrast of images by transforming the intensity values of an image so that the histogram of the output image approximately matches a specified distribution (for example, a uniform distribution). Function: [skimage.exposure.equalize_hist](https://scikit-image.org/docs/stable/api/skimage.exposure.html#skimage.exposure.equalize_hist)\n",
    "3. Adaptive histogram equalization: operates on small data regions (tiles) rather than the entire image. Each tile's contrast is enhanced so that the histogram of each output region approximately matches the specified distribution. Function: [skimage.exposure.equalize_adapthist](https://scikit-image.org/docs/stable/api/skimage.exposure.html#skimage.exposure.equalize_adapthist)\n",
    "\n",
    "These enhancements are used to aid the *visualization* of images. Be careful to always preserve the original and communicate that you have processed the images. The enhanced versions are usually not suitable for quantitative analysis (why is that?).\n"
   ]
  },
  {
   "cell_type": "markdown",
   "metadata": {},
   "source": [
    "#### Step 1\n",
    "\n",
    "First, plot a histogram of the original image using [plt.hist](https://matplotlib.org/3.1.0/api/_as_gen/matplotlib.pyplot.hist.html):\n",
    "\n",
    "> Tip: You will need to collapse the image into a 1D array of values. Call the `.ravel()` method of the array to do this. Ex: `myarray.ravel()`.\n",
    ">\n",
    "> Tip: Use a larger number of bins than the default by specifying the `bins` parameter to `plt.hist`."
   ]
  },
  {
   "cell_type": "code",
   "execution_count": null,
   "metadata": {},
   "outputs": [],
   "source": [
    "plt.figure()\n",
    "plt.\n",
    "plt.show()"
   ]
  },
  {
   "cell_type": "markdown",
   "metadata": {},
   "source": [
    "#### Step 2\n",
    "\n",
    "Calculate the 3 types of histogram enhancements for the image. Plot the enhanced images along with their respective histograms.\n",
    "\n",
    "> BONUS: Plot each image and histogram side-by-side using [plt.subplot](https://matplotlib.org/api/_as_gen/matplotlib.pyplot.subplot.html)"
   ]
  },
  {
   "cell_type": "code",
   "execution_count": null,
   "metadata": {},
   "outputs": [],
   "source": [
    "# The first one is a bit trickier. \n",
    "# If we want to stretch the contrast so that 2% of the data are saturated in the low and high ends,\n",
    "# we need to first compute the values in the 2nd and 98th percentile of the image first.\n",
    "low_end, high_end = np.percentile(moon, (2, 98))\n",
    " = skimage.exposure.rescale_intensity(    , in_range=(low_end, high_end))"
   ]
  },
  {
   "cell_type": "code",
   "execution_count": null,
   "metadata": {},
   "outputs": [],
   "source": [
    " = skimage.exposure.equalize_hist(   )"
   ]
  },
  {
   "cell_type": "code",
   "execution_count": null,
   "metadata": {},
   "outputs": [],
   "source": [
    "# With adative equalization you can set a limit to the equalization \n",
    "# to avoid amplifying noise too much. Try passing the clip_limit argument to this function.\n",
    "# It should be between 0 and 0.1.\n",
    " = skimage.exposure.equalize_adapthist(    )"
   ]
  },
  {
   "cell_type": "code",
   "execution_count": null,
   "metadata": {},
   "outputs": [],
   "source": [
    "# Plot the images and their respective histograms\n",
    "plt.figure()\n",
    "\n",
    "plt.show()"
   ]
  },
  {
   "cell_type": "markdown",
   "metadata": {},
   "source": [
    "#### Step 3\n",
    "\n",
    "Comment on similarities, differences, and overall performance of the image digital enhancement methods.\n",
    "\n",
    "---"
   ]
  },
  {
   "cell_type": "markdown",
   "metadata": {},
   "source": [
    "*Double click here to edit this Markdown cell.* \n",
    "Delete this text and use this space to type your answer."
   ]
  }
 ],
 "metadata": {
  "kernelspec": {
   "display_name": "Python [conda env:envs258]",
   "language": "python",
   "name": "conda-env-envs258-py"
  },
  "language_info": {
   "codemirror_mode": {
    "name": "ipython",
    "version": 3
   },
   "file_extension": ".py",
   "mimetype": "text/x-python",
   "name": "python",
   "nbconvert_exporter": "python",
   "pygments_lexer": "ipython3",
   "version": "3.7.6"
  }
 },
 "nbformat": 4,
 "nbformat_minor": 4
}
