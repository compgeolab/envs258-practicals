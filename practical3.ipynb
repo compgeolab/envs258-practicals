{
 "cells": [
  {
   "cell_type": "markdown",
   "metadata": {},
   "source": [
    "# Practical 3: Digital Elevation Models\n",
    "\n",
    "In this practical, we'll examine digital elevation models (DEMs) of [Mount Saint Helens](https://en.wikipedia.org/wiki/Mount_St._Helens), a volcano in the West coast of the US. "
   ]
  },
  {
   "cell_type": "markdown",
   "metadata": {},
   "source": [
    "## General instructions\n",
    "\n",
    "Type out your answer to questions in the provided *Markdown* cell (delete the placeholder text). \n",
    "You can use the code cells provided to do the calculations.\n",
    "\n",
    "Remember: \n",
    "* Double click on a Markdown cell to edit its contents.\n",
    "* You can write equations in Markdown by surrounding them in `$`. The syntax for the equations is from a program called [LaTeX](https://en.wikipedia.org/wiki/LaTeX). You can learn about the syntax for writing equations with [this guide](https://www.overleaf.com/learn/latex/Mathematical_expressions).\n",
    "* To get a cheat sheet of Markdown formatting, click on the menu: Help > Markdown Reference.\n",
    "* Use descriptive variable names.\n",
    "* Use the `print` function to display the contents of a variable.\n",
    "* **Be mindful of units!**\n",
    "\n",
    "Example equation: $\\lambda = \\dfrac{c}{\\nu} = 10\\ \\mu m$"
   ]
  },
  {
   "cell_type": "markdown",
   "metadata": {},
   "source": [
    "## Exercise 1\n",
    "\n",
    "Explain the process for generating DEMs from LiDAR data (physical principles, acquisition, characteristics of the system, initial data type, processing, final product). What are the advantages and limitations of LiDAR for generating DEMs?\n",
    "\n",
    "---"
   ]
  },
  {
   "cell_type": "markdown",
   "metadata": {},
   "source": [
    "*Type your answers here.*"
   ]
  },
  {
   "cell_type": "markdown",
   "metadata": {},
   "source": [
    "## Exercise 2\n",
    "\n",
    "The goal of this exercise is to **estimate the volume errupted during the [1980 Mount Saint Helens erruption and debris avalanche](https://en.wikipedia.org/wiki/1980_eruption_of_Mount_St._Helens)**. To do this, we'll use two DEMs: one acquired before the eruption and one afterwards. "
   ]
  },
  {
   "cell_type": "code",
   "execution_count": null,
   "metadata": {},
   "outputs": [],
   "source": [
    "from IPython.display import IFrame\n",
    "\n",
    "IFrame(src=\"https://www.google.com/maps/embed?pb=!1m18!1m12!1m3!1d134413.2573953966!2d-122.27456656213947!3d46.19883069305811!2m3!1f0!2f0!3f0!3m2!1i1024!2i768!4f13.1!3m3!1m2!1s0x54969956568a2691%3A0x69ddb4f4b6cf94c7!2sMt%20St%20Helens!5e1!3m2!1sen!2suk!4v1581928764670!5m2!1sen!2suk\", width=600, height=450)"
   ]
  },
  {
   "cell_type": "markdown",
   "metadata": {},
   "source": [
    "The DEMs are stored in the files `mount-saint-helens-dem-after.txt` and `mount-saint-helens-dem-before.txt`. Open the files (by clicking on them) to see their contents. **The headers have information that you will need.**\n",
    "\n",
    "These files have been prepared for use in this class before hand. The original DEMs had different resolutions and slightly different coverage. This resulted in different coordinates for each pixel in the DEM. Because of that, we wouldn't be able to directly compare the two. To resolve this problem, I interpolated both DEMs to generate rasters with the same resolution and same coverage.\n",
    "\n",
    "We'll start, as always, by importing the libraries that we need."
   ]
  },
  {
   "cell_type": "code",
   "execution_count": null,
   "metadata": {},
   "outputs": [],
   "source": [
    "import numpy as np\n",
    "import matplotlib.pyplot as plt"
   ]
  },
  {
   "cell_type": "markdown",
   "metadata": {},
   "source": [
    "Complete the code below to load the DEMs from the text files."
   ]
  },
  {
   "cell_type": "code",
   "execution_count": null,
   "metadata": {},
   "outputs": [],
   "source": [
    " = np.loadtxt(\"\")\n",
    " = np.loadtxt(\"\")\n",
    "print()"
   ]
  },
  {
   "cell_type": "markdown",
   "metadata": {},
   "source": [
    "A useful thing to know is the minimum and maximum values of the arrays."
   ]
  },
  {
   "cell_type": "code",
   "execution_count": null,
   "metadata": {},
   "outputs": [],
   "source": [
    "print(np.min( ), np.max( ))\n",
    "print(  )"
   ]
  },
  {
   "cell_type": "markdown",
   "metadata": {},
   "source": [
    "Use the cell below to plot the two DEMs. Use `plt.colorbar` to plot colorbars next to the images. \n",
    "\n",
    "When comparing two plots, it's important to have **both colorbars in the same range**. Do so by specifying the same `vmin` and `vmax` both times you call `plt.imshow` (hint: use the values you found above). \n",
    "\n",
    "It's also good training to **label your axis**. Use `plt.title`, `plt.xlabel`, and `plt.ylabel`."
   ]
  },
  {
   "cell_type": "code",
   "execution_count": null,
   "metadata": {},
   "outputs": [],
   "source": [
    "plt.figure()\n",
    "\n",
    "\n",
    "plt.figure()\n",
    "\n",
    "\n",
    "plt.show()"
   ]
  },
  {
   "cell_type": "markdown",
   "metadata": {},
   "source": [
    "Calculate the difference between the two DEMs to measure the amount of topographic change caused by the eruption and debris avalanche. Make a plot of the difference. Remeber that numpy lets you perform operations on entire arrays, instead of element by element with a `for` loop."
   ]
  },
  {
   "cell_type": "code",
   "execution_count": null,
   "metadata": {},
   "outputs": [],
   "source": []
  },
  {
   "cell_type": "markdown",
   "metadata": {},
   "source": [
    "Calculate the **total volume** of material moved by the eruption and debris avalanche in **cubic kilometers**. You will need to know the *resolution* of the raster DEM.\n",
    "\n",
    "You can do this with two `for` loops and an aggregator pattern *or* using numpy as no `for` loops. Try solving this both ways."
   ]
  },
  {
   "cell_type": "code",
   "execution_count": null,
   "metadata": {},
   "outputs": [],
   "source": []
  },
  {
   "cell_type": "markdown",
   "metadata": {},
   "source": [
    "Which factors impact the uncertainty of this estimate?\n",
    "\n",
    "----"
   ]
  },
  {
   "cell_type": "code",
   "execution_count": null,
   "metadata": {},
   "outputs": [],
   "source": []
  }
 ],
 "metadata": {
  "kernelspec": {
   "display_name": "Python [conda env:envs258]",
   "language": "python",
   "name": "conda-env-envs258-py"
  },
  "language_info": {
   "codemirror_mode": {
    "name": "ipython",
    "version": 3
   },
   "file_extension": ".py",
   "mimetype": "text/x-python",
   "name": "python",
   "nbconvert_exporter": "python",
   "pygments_lexer": "ipython3",
   "version": "3.7.6"
  }
 },
 "nbformat": 4,
 "nbformat_minor": 4
}
