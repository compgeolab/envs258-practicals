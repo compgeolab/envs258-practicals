{
 "cells": [
  {
   "cell_type": "markdown",
   "metadata": {},
   "source": [
    "# Repeating actions with loops\n",
    "\n",
    "This lesson was loosely based on these Software Carpentry lessons:\n",
    "* http://swcarpentry.github.io/python-novice-inflammation/04-loop/index.html\n",
    "* http://swcarpentry.github.io/python-novice-inflammation/05-lists/index.html\n",
    "\n",
    "Refer to those for more context and detailed explanation"
   ]
  },
  {
   "cell_type": "code",
   "execution_count": 1,
   "metadata": {},
   "outputs": [],
   "source": [
    "temperatures = [7, 9, 3, 8, 10, 9, 5]"
   ]
  },
  {
   "cell_type": "code",
   "execution_count": 2,
   "metadata": {},
   "outputs": [
    {
     "name": "stdout",
     "output_type": "stream",
     "text": [
      "7\n",
      "9\n",
      "3\n",
      "8\n",
      "10\n",
      "9\n",
      "5\n"
     ]
    }
   ],
   "source": [
    "print(temperatures[0])\n",
    "print(temperatures[1])\n",
    "print(temperatures[2])\n",
    "print(temperatures[3])\n",
    "print(temperatures[4])\n",
    "print(temperatures[5])\n",
    "print(temperatures[6])"
   ]
  },
  {
   "cell_type": "markdown",
   "metadata": {},
   "source": [
    "Same code doesn't work if the list is different:"
   ]
  },
  {
   "cell_type": "code",
   "execution_count": 3,
   "metadata": {},
   "outputs": [],
   "source": [
    "temperatures = [7, 9, 8, 10, 5]"
   ]
  },
  {
   "cell_type": "code",
   "execution_count": 4,
   "metadata": {},
   "outputs": [
    {
     "name": "stdout",
     "output_type": "stream",
     "text": [
      "7\n",
      "9\n",
      "8\n",
      "10\n",
      "5\n"
     ]
    },
    {
     "ename": "IndexError",
     "evalue": "list index out of range",
     "output_type": "error",
     "traceback": [
      "\u001b[0;31m---------------------------------------------------------------------------\u001b[0m",
      "\u001b[0;31mIndexError\u001b[0m                                Traceback (most recent call last)",
      "\u001b[0;32m<ipython-input-4-bd26f3ab74ac>\u001b[0m in \u001b[0;36m<module>\u001b[0;34m()\u001b[0m\n\u001b[1;32m      4\u001b[0m \u001b[0mprint\u001b[0m\u001b[0;34m(\u001b[0m\u001b[0mtemperatures\u001b[0m\u001b[0;34m[\u001b[0m\u001b[0;36m3\u001b[0m\u001b[0;34m]\u001b[0m\u001b[0;34m)\u001b[0m\u001b[0;34m\u001b[0m\u001b[0;34m\u001b[0m\u001b[0m\n\u001b[1;32m      5\u001b[0m \u001b[0mprint\u001b[0m\u001b[0;34m(\u001b[0m\u001b[0mtemperatures\u001b[0m\u001b[0;34m[\u001b[0m\u001b[0;36m4\u001b[0m\u001b[0;34m]\u001b[0m\u001b[0;34m)\u001b[0m\u001b[0;34m\u001b[0m\u001b[0;34m\u001b[0m\u001b[0m\n\u001b[0;32m----> 6\u001b[0;31m \u001b[0mprint\u001b[0m\u001b[0;34m(\u001b[0m\u001b[0mtemperatures\u001b[0m\u001b[0;34m[\u001b[0m\u001b[0;36m5\u001b[0m\u001b[0;34m]\u001b[0m\u001b[0;34m)\u001b[0m\u001b[0;34m\u001b[0m\u001b[0;34m\u001b[0m\u001b[0m\n\u001b[0m\u001b[1;32m      7\u001b[0m \u001b[0mprint\u001b[0m\u001b[0;34m(\u001b[0m\u001b[0mtemperatures\u001b[0m\u001b[0;34m[\u001b[0m\u001b[0;36m6\u001b[0m\u001b[0;34m]\u001b[0m\u001b[0;34m)\u001b[0m\u001b[0;34m\u001b[0m\u001b[0;34m\u001b[0m\u001b[0m\n",
      "\u001b[0;31mIndexError\u001b[0m: list index out of range"
     ]
    }
   ],
   "source": [
    "print(temperatures[0])\n",
    "print(temperatures[1])\n",
    "print(temperatures[2])\n",
    "print(temperatures[3])\n",
    "print(temperatures[4])\n",
    "print(temperatures[5])\n",
    "print(temperatures[6])"
   ]
  },
  {
   "cell_type": "markdown",
   "metadata": {},
   "source": [
    "Use a `for` loop instead. The way to specify the action above in English would be:\n",
    "\n",
    "> For every temperature in the list of temperatures, print out that temperature.\n",
    "\n",
    "In Python, this translates to"
   ]
  },
  {
   "cell_type": "code",
   "execution_count": 5,
   "metadata": {},
   "outputs": [
    {
     "name": "stdout",
     "output_type": "stream",
     "text": [
      "274\n",
      "275\n",
      "276\n",
      "277\n",
      "278\n",
      "279\n"
     ]
    }
   ],
   "source": [
    "temperatures = [1, 2, 3, 4, 5, 6]\n",
    "for temperature in temperatures:\n",
    "    temperature_kelvin = temperature + 273\n",
    "    print(temperature_kelvin)"
   ]
  },
  {
   "cell_type": "markdown",
   "metadata": {},
   "source": [
    "A common patter is to create a new list based on transformations/computations applied to elements of another list.\n",
    "\n",
    "English instructions for creating a list of temperatures converted to Kelvin:\n",
    "\n",
    "> Create a new empty list. For every temperature in a list of temperatures, convert that temperature to kelvin and add the result to the end of the once empty list."
   ]
  },
  {
   "cell_type": "code",
   "execution_count": 6,
   "metadata": {},
   "outputs": [
    {
     "name": "stdout",
     "output_type": "stream",
     "text": [
      "[274, 275, 276, 277, 278, 279]\n"
     ]
    }
   ],
   "source": [
    "temperatures_kelvin = []\n",
    "for temperature in temperatures:\n",
    "    temperature_kelvin = temperature + 273\n",
    "    temperatures_kelvin.append(temperature_kelvin)\n",
    "print(temperatures_kelvin)"
   ]
  },
  {
   "cell_type": "markdown",
   "metadata": {},
   "source": [
    "Use the *aggregator patter* to calculate summations and other reductions of data (a single number calculated from multiple data points).\n",
    "\n",
    "Average:\n",
    "\n",
    "$\\bar{x} = \\dfrac{\\sum\\limits_{i=0}^{N-1} x_i}{N}$"
   ]
  },
  {
   "cell_type": "code",
   "execution_count": 7,
   "metadata": {},
   "outputs": [
    {
     "name": "stdout",
     "output_type": "stream",
     "text": [
      "3.5\n"
     ]
    }
   ],
   "source": [
    "temperatures = [1, 2, 3, 4, 5, 6]\n",
    "\n",
    "number_of_elements = len(temperatures)\n",
    "\n",
    "# The aggregator pattern\n",
    "sum_of_temperatures = 0\n",
    "for temperature in temperatures:\n",
    "    sum_of_temperatures = sum_of_temperatures + temperature\n",
    "average = sum_of_temperatures / number_of_elements\n",
    "print(average)"
   ]
  },
  {
   "cell_type": "markdown",
   "metadata": {},
   "source": [
    "Same thing can be done for the standard deviation:\n",
    "\n",
    "$\\sigma = \\sqrt{\\dfrac{\\sum\\limits_{i=0}^{N-1} (x_i - \\bar{x})^2}{N - 1}}$"
   ]
  },
  {
   "cell_type": "code",
   "execution_count": 8,
   "metadata": {},
   "outputs": [
    {
     "name": "stdout",
     "output_type": "stream",
     "text": [
      "1.8708286933869707\n"
     ]
    }
   ],
   "source": [
    "sum_of_deviations_squared = 0\n",
    "for temperature in temperatures:\n",
    "    deviation = temperature - average\n",
    "    sum_of_deviations_squared = sum_of_deviations_squared + deviation**2\n",
    "standard_deviation = (sum_of_deviations_squared / (number_of_elements - 1))**0.5\n",
    "print(standard_deviation)"
   ]
  },
  {
   "cell_type": "markdown",
   "metadata": {},
   "source": [
    "Strings are also collections that can be indexed and used in `for` loops:"
   ]
  },
  {
   "cell_type": "code",
   "execution_count": 9,
   "metadata": {},
   "outputs": [
    {
     "name": "stdout",
     "output_type": "stream",
     "text": [
      "L\n",
      "e\n",
      "o\n",
      "n\n",
      "a\n",
      "r\n",
      "d\n",
      "o\n"
     ]
    }
   ],
   "source": [
    "name = \"Leonardo\"\n",
    "for character in name:\n",
    "    print(character)"
   ]
  },
  {
   "cell_type": "code",
   "execution_count": 10,
   "metadata": {},
   "outputs": [
    {
     "name": "stdout",
     "output_type": "stream",
     "text": [
      "L\n"
     ]
    }
   ],
   "source": [
    "print(name[0])"
   ]
  },
  {
   "cell_type": "code",
   "execution_count": 11,
   "metadata": {},
   "outputs": [
    {
     "name": "stdout",
     "output_type": "stream",
     "text": [
      "Leo\n"
     ]
    }
   ],
   "source": [
    "print(name[0:3])"
   ]
  }
 ],
 "metadata": {
  "kernelspec": {
   "display_name": "Python 3",
   "language": "python",
   "name": "python3"
  },
  "language_info": {
   "codemirror_mode": {
    "name": "ipython",
    "version": 3
   },
   "file_extension": ".py",
   "mimetype": "text/x-python",
   "name": "python",
   "nbconvert_exporter": "python",
   "pygments_lexer": "ipython3",
   "version": "3.7.6"
  }
 },
 "nbformat": 4,
 "nbformat_minor": 4
}
