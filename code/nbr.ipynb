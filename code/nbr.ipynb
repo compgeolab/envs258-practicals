{
 "cells": [
  {
   "cell_type": "markdown",
   "metadata": {},
   "source": [
    "# Example of NBR and dNBR\n",
    "\n",
    "Use the Thomas fire data for this."
   ]
  },
  {
   "cell_type": "code",
   "execution_count": 1,
   "metadata": {},
   "outputs": [],
   "source": [
    "from pathlib import Path\n",
    "import numpy as np\n",
    "import matplotlib.pyplot as plt\n",
    "from matplotlib.gridspec import GridSpec\n",
    "from functions import load_scene, composite"
   ]
  },
  {
   "cell_type": "markdown",
   "metadata": {},
   "source": [
    "Load the pre-cropped scene."
   ]
  },
  {
   "cell_type": "code",
   "execution_count": 2,
   "metadata": {},
   "outputs": [],
   "source": [
    "before = load_scene(\n",
    "    Path(\"../data/thomas_fire/LC08_L2SP_042036_20171123_20200902_02_T1_cropped/\"),\n",
    "    pattern=\"[2-7]\",\n",
    ")\n",
    "after = load_scene(\n",
    "    Path(\"../data/thomas_fire/LC08_L2SP_042036_20180126_20200902_02_T1_cropped/\"),\n",
    "    pattern=\"[2-7]\",\n",
    ")"
   ]
  },
  {
   "cell_type": "markdown",
   "metadata": {},
   "source": [
    "Calculate NBR and dNBR"
   ]
  },
  {
   "cell_type": "code",
   "execution_count": 3,
   "metadata": {},
   "outputs": [],
   "source": [
    "nbr_before = (before[5] - before[7]) / ((before[5] + before[7]))\n",
    "nbr_after = (after[5] - after[7]) / ((after[5] + after[7]))\n",
    "dnbr = nbr_before - nbr_after"
   ]
  },
  {
   "cell_type": "markdown",
   "metadata": {},
   "source": [
    "Plot RBG composite besides the NDVI"
   ]
  },
  {
   "cell_type": "code",
   "execution_count": 4,
   "metadata": {},
   "outputs": [],
   "source": [
    "rgb_before = composite(before, bands=[4, 3, 2], in_range=(6000, 15000))\n",
    "rgb_after = composite(after, bands=[4, 3, 2], in_range=(6000, 15000))"
   ]
  },
  {
   "cell_type": "code",
   "execution_count": null,
   "metadata": {},
   "outputs": [],
   "source": [
    "fig = plt.figure(figsize=(14, 8.1))\n",
    "\n",
    "grid = GridSpec(51, 2, figure=fig, wspace=0, hspace=0)\n",
    "axes =[\n",
    "    fig.add_subplot(grid[0:25, 0]),\n",
    "    fig.add_subplot(grid[25:50, 0]),\n",
    "    fig.add_subplot(grid[0:25, 1]),\n",
    "    fig.add_subplot(grid[25:50, 1]),\n",
    "    \n",
    "]\n",
    "cbax = fig.add_subplot(grid[50, 1])\n",
    "ax1, ax2, ax3, ax4 = axes\n",
    "\n",
    "x, y = 20, 20\n",
    "\n",
    "ax1.imshow(rgb_before)\n",
    "ax1.text(\n",
    "    x, y,\n",
    "    f\"RGB (before)\", \n",
    "    color=\"black\", \n",
    "    fontweight=\"normal\", \n",
    "    fontsize=14,\n",
    "    verticalalignment=\"top\",\n",
    "    backgroundcolor=\"white\",\n",
    ")    \n",
    "ax2.imshow(rgb_after)\n",
    "ax2.text(\n",
    "    x, y,\n",
    "    f\"RGB (after)\", \n",
    "    color=\"black\", \n",
    "    fontweight=\"normal\", \n",
    "    fontsize=14,\n",
    "    verticalalignment=\"top\",\n",
    "    backgroundcolor=\"white\",\n",
    ")    \n",
    "\n",
    "vmin, vmax = 0, 4\n",
    "tmp = ax3.imshow(nbr_before, cmap=\"Reds\", vmin=vmin, vmax=vmax)\n",
    "ax3.text(\n",
    "    x, y,\n",
    "    f\"NBR (before)\", \n",
    "    color=\"black\", \n",
    "    fontweight=\"normal\", \n",
    "    fontsize=14,\n",
    "    verticalalignment=\"top\",\n",
    "    backgroundcolor=\"white\",\n",
    ")    \n",
    "tmp = ax4.imshow(nbr_after, cmap=\"Reds\", vmin=vmin, vmax=vmax)\n",
    "ax4.text(\n",
    "    x, y,\n",
    "    f\"NBR (after)\", \n",
    "    color=\"black\", \n",
    "    fontweight=\"normal\", \n",
    "    fontsize=14,\n",
    "    verticalalignment=\"top\",\n",
    "    backgroundcolor=\"white\",\n",
    ")    \n",
    "\n",
    "fig.colorbar(tmp, cax=cbax, orientation=\"horizontal\")\n",
    "\n",
    "for ax in axes:\n",
    "    ax.axis(\"off\")\n",
    "\n",
    "fig.text(0, 0, \n",
    "    \"Landsat 8 scenes of Ventura, California, USA\\nfrom 2017/11/23 and 2018/01/26\", \n",
    "    color=\"black\", \n",
    "    fontweight=\"normal\", \n",
    "    fontsize=11,\n",
    "    verticalalignment=\"bottom\",\n",
    "    backgroundcolor=\"white\",\n",
    ")\n",
    "plt.tight_layout(pad=0, w_pad=0, h_pad=0)\n",
    "plt.savefig(\"../lectures/images/nbr_thomas_fire.svg\", bbox_inches=\"tight\", pad_inches=0)"
   ]
  }
 ],
 "metadata": {
  "kernelspec": {
   "display_name": "Python [conda env:remote-sensing]",
   "language": "python",
   "name": "conda-env-remote-sensing-py"
  },
  "language_info": {
   "codemirror_mode": {
    "name": "ipython",
    "version": 3
   },
   "file_extension": ".py",
   "mimetype": "text/x-python",
   "name": "python",
   "nbconvert_exporter": "python",
   "pygments_lexer": "ipython3",
   "version": "3.8.5"
  }
 },
 "nbformat": 4,
 "nbformat_minor": 4
}
