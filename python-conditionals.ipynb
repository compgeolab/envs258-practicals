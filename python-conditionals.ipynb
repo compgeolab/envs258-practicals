{
 "cells": [
  {
   "cell_type": "markdown",
   "metadata": {},
   "source": [
    "# Making choices and conditional execution"
   ]
  },
  {
   "cell_type": "code",
   "execution_count": 21,
   "metadata": {},
   "outputs": [],
   "source": [
    "temperature = -40"
   ]
  },
  {
   "cell_type": "markdown",
   "metadata": {},
   "source": [
    "Print out \"way too hot\" if the temperature is greater than 25 C."
   ]
  },
  {
   "cell_type": "markdown",
   "metadata": {},
   "source": [
    "way too hot"
   ]
  },
  {
   "cell_type": "code",
   "execution_count": 22,
   "metadata": {},
   "outputs": [
    {
     "name": "stdout",
     "output_type": "stream",
     "text": [
      "nice and warm\n",
      "done\n"
     ]
    }
   ],
   "source": [
    "if temperature > 25:\n",
    "    print(\"way too hot\")\n",
    "else:\n",
    "    print(\"nice and warm\")\n",
    "print(\"done\")"
   ]
  },
  {
   "cell_type": "code",
   "execution_count": 16,
   "metadata": {},
   "outputs": [
    {
     "name": "stdout",
     "output_type": "stream",
     "text": [
      "purple monkey\n"
     ]
    }
   ],
   "source": [
    "condition = True\n",
    "if condition:\n",
    "    print(\"purple monkey\")\n",
    "else:\n",
    "    print(\"yellow giraffe\")"
   ]
  },
  {
   "cell_type": "code",
   "execution_count": 19,
   "metadata": {},
   "outputs": [
    {
     "name": "stdout",
     "output_type": "stream",
     "text": [
      "True\n"
     ]
    }
   ],
   "source": [
    "print(temperature > 25)"
   ]
  },
  {
   "cell_type": "code",
   "execution_count": 20,
   "metadata": {},
   "outputs": [
    {
     "name": "stdout",
     "output_type": "stream",
     "text": [
      "too hot\n",
      "done\n"
     ]
    }
   ],
   "source": [
    "temperature_is_greater = temperature > 25\n",
    "if temperature_is_greater:\n",
    "    print(\"too hot\")\n",
    "else:\n",
    "    print(\"warm\")\n",
    "print(\"done\")"
   ]
  },
  {
   "cell_type": "markdown",
   "metadata": {},
   "source": [
    "Nice and warm means that temperature is less than 25 and greater than 10."
   ]
  },
  {
   "cell_type": "code",
   "execution_count": 24,
   "metadata": {},
   "outputs": [],
   "source": [
    "temperature = 35\n",
    "if (temperature < 25) and (temperature > 10):\n",
    "    print(\"nice and warm\")"
   ]
  },
  {
   "cell_type": "code",
   "execution_count": 25,
   "metadata": {},
   "outputs": [
    {
     "name": "stdout",
     "output_type": "stream",
     "text": [
      "False\n"
     ]
    }
   ],
   "source": [
    "print(False and True)"
   ]
  },
  {
   "cell_type": "code",
   "execution_count": 26,
   "metadata": {},
   "outputs": [
    {
     "name": "stdout",
     "output_type": "stream",
     "text": [
      "False\n"
     ]
    }
   ],
   "source": [
    "print(False and False)"
   ]
  },
  {
   "cell_type": "code",
   "execution_count": 27,
   "metadata": {},
   "outputs": [
    {
     "name": "stdout",
     "output_type": "stream",
     "text": [
      "True\n"
     ]
    }
   ],
   "source": [
    "print(True and True)"
   ]
  },
  {
   "cell_type": "code",
   "execution_count": 29,
   "metadata": {},
   "outputs": [
    {
     "name": "stdout",
     "output_type": "stream",
     "text": [
      "radical\n"
     ]
    }
   ],
   "source": [
    "temperature = 40\n",
    "if (temperature > 35) or (temperature < -20):\n",
    "    print(\"radical\")"
   ]
  },
  {
   "cell_type": "code",
   "execution_count": 30,
   "metadata": {},
   "outputs": [
    {
     "name": "stdout",
     "output_type": "stream",
     "text": [
      "False\n"
     ]
    }
   ],
   "source": [
    "print(False or False)"
   ]
  },
  {
   "cell_type": "code",
   "execution_count": 31,
   "metadata": {},
   "outputs": [
    {
     "name": "stdout",
     "output_type": "stream",
     "text": [
      "True\n"
     ]
    }
   ],
   "source": [
    "print(False or True)"
   ]
  },
  {
   "cell_type": "code",
   "execution_count": 32,
   "metadata": {},
   "outputs": [
    {
     "name": "stdout",
     "output_type": "stream",
     "text": [
      "True\n"
     ]
    }
   ],
   "source": [
    "print(True or True)"
   ]
  },
  {
   "cell_type": "code",
   "execution_count": 33,
   "metadata": {},
   "outputs": [],
   "source": [
    "import numpy as np\n",
    "import matplotlib.pyplot as plt"
   ]
  },
  {
   "cell_type": "code",
   "execution_count": 41,
   "metadata": {},
   "outputs": [],
   "source": [
    "time_temperature = np.loadtxt(\"temperature.txt\")"
   ]
  },
  {
   "cell_type": "code",
   "execution_count": 42,
   "metadata": {},
   "outputs": [],
   "source": [
    "times = time_temperature[:, 0]\n",
    "temperatures = time_temperature[:, 1]"
   ]
  },
  {
   "cell_type": "code",
   "execution_count": 43,
   "metadata": {},
   "outputs": [
    {
     "data": {
      "text/plain": [
       "array([10.16014324, 14.7786048 , 14.93652691, 10.29828348, 14.73391146,\n",
       "       14.87414518, 19.70070424, 15.25157835, 14.86113422, 15.11461122,\n",
       "       19.77265875, 14.87313576, 14.95281751, 14.70067991, 14.73416305,\n",
       "       15.17715492, 15.1683709 , 15.23337206, 15.25050234, 15.09114538,\n",
       "       14.91439435, 15.16849616, 14.79022821, 14.71022285, 15.27694889,\n",
       "       15.29899687, 15.12289274, 14.70165782, 14.76817813, 15.26615204,\n",
       "       14.78626124, 14.72928578, 15.29292294, 14.93949598, 15.13767655,\n",
       "       15.15382075, 15.29649483, 14.7038572 , 14.713851  , 15.02434977])"
      ]
     },
     "execution_count": 43,
     "metadata": {},
     "output_type": "execute_result"
    }
   ],
   "source": [
    "temperatures"
   ]
  },
  {
   "cell_type": "code",
   "execution_count": 44,
   "metadata": {},
   "outputs": [
    {
     "data": {
      "image/png": "[encoded data removed]",
      "text/plain": [
       "<Figure size 432x288 with 1 Axes>"
      ]
     },
     "metadata": {
      "needs_background": "light"
     },
     "output_type": "display_data"
    }
   ],
   "source": [
    "plt.figure()\n",
    "plt.plot(times, temperatures, \".k\")\n",
    "plt.show()"
   ]
  },
  {
   "cell_type": "code",
   "execution_count": 40,
   "metadata": {},
   "outputs": [],
   "source": [
    "uncertainty = 1"
   ]
  },
  {
   "cell_type": "code",
   "execution_count": 45,
   "metadata": {},
   "outputs": [
    {
     "name": "stdout",
     "output_type": "stream",
     "text": [
      "14.986495694148445\n"
     ]
    }
   ],
   "source": [
    "sum_of_temperatures = 0\n",
    "for temperature in temperatures:\n",
    "    sum_of_temperatures += temperature\n",
    "mean_tempeture = sum_of_temperatures / len(temperatures)\n",
    "print(mean_tempeture)"
   ]
  },
  {
   "cell_type": "code",
   "execution_count": 49,
   "metadata": {},
   "outputs": [
    {
     "name": "stdout",
     "output_type": "stream",
     "text": [
      "17.986495694148445 11.986495694148445\n",
      "10.160143243934453\n",
      "10.298283483844648\n",
      "19.70070423921517\n",
      "19.77265875077913\n"
     ]
    }
   ],
   "source": [
    "upper_bound = mean_tempeture + 3*uncertainty\n",
    "lower_bound = mean_tempeture - 3*uncertainty\n",
    "print(upper_bound, lower_bound)\n",
    "for temperature in temperatures:\n",
    "    if temperature > upper_bound or temperature < lower_bound:\n",
    "        print(temperature)"
   ]
  },
  {
   "cell_type": "code",
   "execution_count": 64,
   "metadata": {},
   "outputs": [
    {
     "name": "stdout",
     "output_type": "stream",
     "text": [
      "[10.160143243934453, 10.298283483844648, 19.70070423921517, 19.77265875077913]\n"
     ]
    }
   ],
   "source": [
    "temperatures_filtered = []\n",
    "outliers = []\n",
    "times_filtered = []\n",
    "outliers_times = []\n",
    "for time, temperature in zip(times, temperatures):\n",
    "    if temperature > upper_bound or temperature < lower_bound:\n",
    "        outliers.append(temperature) \n",
    "        outliers_times.append(times)\n",
    "    else:\n",
    "        temperatures_filtered.append(temperatures)\n",
    "        times_filtered.append(time)\n",
    "print(outliers)"
   ]
  },
  {
   "cell_type": "code",
   "execution_count": 65,
   "metadata": {},
   "outputs": [
    {
     "data": {
      "image/png": "[encoded data removed]",
      "text/plain": [
       "<Figure size 432x288 with 1 Axes>"
      ]
     },
     "metadata": {
      "needs_background": "light"
     },
     "output_type": "display_data"
    }
   ],
   "source": [
    "plt.figure()\n",
    "plt.plot(times_filtered, temperatures_filtered, \".k\")\n",
    "plt.plot(outliers_times, outliers, \".r\")\n",
    "plt.show()"
   ]
  },
  {
   "cell_type": "code",
   "execution_count": 66,
   "metadata": {},
   "outputs": [
    {
     "data": {
      "text/plain": [
       "14.986495694148442"
      ]
     },
     "execution_count": 66,
     "metadata": {},
     "output_type": "execute_result"
    }
   ],
   "source": [
    "np.mean(temperatures)"
   ]
  },
  {
   "cell_type": "code",
   "execution_count": 69,
   "metadata": {},
   "outputs": [
    {
     "name": "stdout",
     "output_type": "stream",
     "text": [
      "[19.70070424 15.25157835 15.11461122 19.77265875 15.17715492 15.1683709\n",
      " 15.23337206 15.25050234 15.09114538 15.16849616 15.27694889 15.29899687\n",
      " 15.12289274 15.26615204 15.29292294 15.13767655 15.15382075 15.29649483\n",
      " 15.02434977]\n"
     ]
    }
   ],
   "source": [
    "too_hot = temperatures > 15\n",
    "temperatures_too_hot = temperatures[too_hot]\n",
    "print(temperatures_too_hot)"
   ]
  },
  {
   "cell_type": "code",
   "execution_count": null,
   "metadata": {},
   "outputs": [],
   "source": []
  }
 ],
 "metadata": {
  "kernelspec": {
   "display_name": "Python [conda env:envs258]",
   "language": "python",
   "name": "conda-env-envs258-py"
  },
  "language_info": {
   "codemirror_mode": {
    "name": "ipython",
    "version": 3
   },
   "file_extension": ".py",
   "mimetype": "text/x-python",
   "name": "python",
   "nbconvert_exporter": "python",
   "pygments_lexer": "ipython3",
   "version": "3.7.6"
  }
 },
 "nbformat": 4,
 "nbformat_minor": 4
}
